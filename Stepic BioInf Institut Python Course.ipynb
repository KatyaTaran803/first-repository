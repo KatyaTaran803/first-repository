{
 "cells": [
  {
   "cell_type": "markdown",
   "metadata": {},
   "source": [
    "Мои ответы на задачи курса https://stepik.org/course/67 (\"Программирование на Python\")"
   ]
  },
  {
   "cell_type": "markdown",
   "metadata": {},
   "source": [
    "# 1. Операторы. Переменные. Типы данных"
   ]
  },
  {
   "cell_type": "markdown",
   "metadata": {},
   "source": [
    "1.8 Переменные. Стандартный ввод/вывод"
   ]
  },
  {
   "cell_type": "code",
   "execution_count": null,
   "metadata": {
    "collapsed": true
   },
   "outputs": [],
   "source": [
    "\"\"\"1.8 Напишите программу:\n",
    "Тимофей обычно спит ночью X часов и устраивает себе днем тихий час на Y минут. \n",
    "Определите, сколько всего минут Тимофей спит в сутки.\"\"\"\n",
    "\n",
    "X = int(input())\n",
    "Y = int(input())\n",
    "\n",
    "print(X*60 + Y)"
   ]
  },
  {
   "cell_type": "code",
   "execution_count": null,
   "metadata": {
    "collapsed": true
   },
   "outputs": [],
   "source": [
    "\"\"\"1.8 Коля каждый день ложится спать ровно в полночь и недавно узнал, что оптимальное время для \n",
    "его сна составляет X минут. Коля хочет поставить себе будильник так, чтобы он прозвенел ровно через\n",
    "X минут после полуночи, однако для этого необходимо указать время сигнала в формате часы, минуты. \n",
    "Помогите Коле определить, на какое время завести будильник.\"\"\"\n",
    "X = int(input())\n",
    "print(X // 60)\n",
    "print(X % 60)"
   ]
  },
  {
   "cell_type": "code",
   "execution_count": null,
   "metadata": {
    "collapsed": true
   },
   "outputs": [],
   "source": [
    "\"\"\"1.8 Катя узнала, что ей для сна надо X минут. В отличие от Коли, Катя ложится спать после полуночи в H часов и M минут. \n",
    "Помогите Кате определить, на какое время ей поставить будильник, чтобы он прозвенел ровно через X минут после того,\n",
    "как она ляжет спать.\n",
    "На стандартный ввод, каждое в своей строке, подаются значения X, H и M.\n",
    "Гарантируется, что Катя должна проснуться в тот же день, что и заснуть.\n",
    "Программа должна выводить время, на которое нужно поставить будильник:\n",
    "в первой строке часы, во второй — минуты.\"\"\"\n",
    "X = int(input())\n",
    "H = int(input()) * 60 \n",
    "M = int(input())\n",
    "print ((X + H+ M) // 60)\n",
    "print ((X + H+ M) % 60)"
   ]
  },
  {
   "cell_type": "markdown",
   "metadata": {},
   "source": [
    "1.10 Условия: if, else, elif. Блоки, отступы"
   ]
  },
  {
   "cell_type": "code",
   "execution_count": null,
   "metadata": {
    "collapsed": true
   },
   "outputs": [],
   "source": [
    "\"\"\"1.10 Из передачи “Здоровье” Аня узнала, что рекомендуется спать хотя бы A часов в сутки, но пересыпать тоже вредно \n",
    "и не стоит спать более B часов. Сейчас Аня спит H часов в сутки. Если режим сна Ани удовлетворяет рекомендациям\n",
    "передачи “Здоровье”, выведите “Это нормально”. Если Аня спит менее A часов, выведите “Недосып”, если же более B \n",
    "часов, то выведите “Пересып”.\"\"\"\n",
    "A = int(input())\n",
    "B = int(input()) \n",
    "H = int(input())\n",
    "if A <= B : \n",
    "    if H < A: \n",
    "        print ('Недосып')\n",
    "    elif H > B:\n",
    "        print ('Пересып')\n",
    "    else:\n",
    "        print ('Это нормально')\n",
    "else: \n",
    "        print ('Ошибка')"
   ]
  },
  {
   "cell_type": "code",
   "execution_count": null,
   "metadata": {
    "collapsed": true
   },
   "outputs": [],
   "source": [
    "\"\"\"1.10 Требуется определить, является ли данный год високосным.\"\"\"\n",
    "A = int(input())\n",
    "if A % 4 == 0 and A % 100 != 0 or A % 400 == 0: \n",
    "    print ('Високосный')\n",
    "else: \n",
    "    print ('Обычный')"
   ]
  },
  {
   "cell_type": "markdown",
   "metadata": {},
   "source": [
    "1.12 Задачи по материалам недели"
   ]
  },
  {
   "cell_type": "code",
   "execution_count": null,
   "metadata": {
    "collapsed": true
   },
   "outputs": [],
   "source": [
    "\"\"\"1.12 В то далёкое время, когда Паша ходил в школу, ему очень не нравилась формула Герона для вычисления площади треугольника,\n",
    "так как казалась слишком сложной. В один прекрасный момент Павел решил избавить всех школьников от страданий и написать и\n",
    "распространить по школам программу, вычисляющую площадь треугольника по трём сторонам.\n",
    "Одна проблема: так как эта формула не нравилась Павлу, он её не запомнил. Помогите ему завершить доброе дело и напишите\n",
    "программу, вычисляющую площадь треугольника по переданным длинам трёх его сторон по формуле Герона:\n",
    "На вход программе подаются целые числа, выводом программы должно являться вещественное число, соответствующее площади треугольника.\"\"\"\n",
    "a = int(input())\n",
    "b = int(input())\n",
    "c = int(input())\n",
    "p = (a + b + c) / 2 \n",
    "S = (p*(p-a)*(p-b)*(p-c)) ** 0.5\n",
    "print (S)"
   ]
  },
  {
   "cell_type": "code",
   "execution_count": null,
   "metadata": {
    "collapsed": true
   },
   "outputs": [],
   "source": [
    "\"\"\"1.12 Напишите программу, принимающую на вход целое число, которая выводит True, если переданное значение попадает \n",
    "в интервал (−15,12]∪(14,17)∪[19,+∞) и False в противном случае (регистр символов имеет значение).\n",
    "\"\"\"\n",
    "a = int(input())\n",
    "if a > -15 and a <= 12 or a > 14 and a < 17 or a >= 19:\n",
    "    print ('True')\n",
    "else: \n",
    "    print ('False')"
   ]
  },
  {
   "cell_type": "code",
   "execution_count": null,
   "metadata": {
    "collapsed": true
   },
   "outputs": [],
   "source": [
    "\"\"\"1.12 Напишите простой калькулятор, который считывает с пользовательского ввода три строки: первое число, второе число и операцию, после чего применяет операцию к введённым числам (\"первое число\" \"операция\" \"второе число\") и выводит результат на экран.\n",
    "Поддерживаемые операции: +, -, /, *, mod, pow, div, где \n",
    "mod — это взятие остатка от деления, \n",
    "pow — возведение в степень, \n",
    "div — целочисленное деление.\"\"\"\n",
    "a = float(input())\n",
    "c = float(input())\n",
    "b = str(input())\n",
    "if (b == '/' or b == 'mod' or b == 'div') and (c == 0 or c == 0.0):\n",
    "    print ('Деление на 0!')\n",
    "else: \n",
    "    if b == '+':\n",
    "        print (a + c)\n",
    "    elif b == '-':\n",
    "        print (a - c)\n",
    "    elif b == '/':\n",
    "        print (a / c)\n",
    "    elif b == '*':\n",
    "        print (a * c)\n",
    "    elif b == 'mod':\n",
    "        print (a % c)\n",
    "    elif b == 'pow':\n",
    "        print (a ** c)\n",
    "    elif b == 'div':\n",
    "        print (a // c)\n",
    "    else: \n",
    "        print ('Error')"
   ]
  },
  {
   "cell_type": "code",
   "execution_count": null,
   "metadata": {
    "collapsed": true
   },
   "outputs": [],
   "source": [
    "\"\"\"1.12 Жители страны Малевии часто экспериментируют с планировкой комнат. Комнаты бывают треугольные, прямоугольные и круглые. Чтобы быстро вычислять жилплощадь, требуется написать программу, на вход которой подаётся тип фигуры комнаты и соответствующие параметры, которая бы выводила площадь получившейся комнаты.\n",
    "Для числа π в стране Малевии используют значение 3.14.\"\"\"\n",
    "t = str(input())\n",
    "if t == 'треугольник':\n",
    "    a = int(input())\n",
    "    b = int(input())\n",
    "    c = int(input())\n",
    "    p = (a + b + c) / 2 \n",
    "    S = (p*(p-a)*(p-b)*(p-c)) ** 0.5\n",
    "    print (S)\n",
    "elif t == 'прямоугольник':\n",
    "    a = int(input())\n",
    "    b = int(input())\n",
    "    S = a*b\n",
    "    print (S)\n",
    "elif t == 'круг':    \n",
    "    r = int(input())\n",
    "    S = 3.14 * (r ** 2)\n",
    "    print (S)\n",
    "else:\n",
    "    print('Неизвестная фигура')"
   ]
  },
  {
   "cell_type": "code",
   "execution_count": null,
   "metadata": {
    "collapsed": true
   },
   "outputs": [],
   "source": [
    "\"\"\"1.12 Напишите программу, которая получает на вход три целых числа, по одному числу в строке, и \n",
    "выводит на консоль в три строки сначала максимальное, потом минимальное, после чего оставшееся число.\"\"\"\n",
    "a = int(input())\n",
    "b = int(input())\n",
    "c = int(input())\n",
    "ma = max(a,b,c)\n",
    "mi = min(a,b,c)\n",
    "print (ma)\n",
    "print (mi)\n",
    "if a == ma and b == mi or a == mi and b == ma:\n",
    "    print (c)\n",
    "elif b == ma and c == mi or b == mi and c == ma:\n",
    "    print (a)\n",
    "elif a == ma and c == mi or a == mi and c == ma:\n",
    "    print (b)\n",
    "else:\n",
    "    print (0)"
   ]
  },
  {
   "cell_type": "code",
   "execution_count": null,
   "metadata": {
    "collapsed": true
   },
   "outputs": [],
   "source": [
    "\"\"\"1.12 Напишите программу, считывающую с пользовательского ввода целое число n (неотрицательное), выводящее это число в консоль вместе с правильным образом изменённым словом \"программист\", \n",
    "для того, чтобы робот мог нормально общаться с людьми, например: 1 программист, 2 программиста, 5 программистов.\"\"\"\n",
    "a = int(input())\n",
    "if a >= 0 and a <= 1000:\n",
    "    if a % 100 >= 11 and a % 100 <= 14:\n",
    "        print (str(a) + ' программистов')\n",
    "    elif a % 10 == 1:\n",
    "        print (str(a) + ' программист')\n",
    "    elif a % 10 == 2 or a % 10 == 3 or a % 10 == 4:\n",
    "        print (str(a) + ' программиста')\n",
    "    else: \n",
    "        print (str(a) + ' программистов')\n",
    "else: \n",
    "    print ('слишком большое число')"
   ]
  },
  {
   "cell_type": "code",
   "execution_count": null,
   "metadata": {
    "collapsed": true
   },
   "outputs": [],
   "source": [
    "\"\"\"1.12 Паша очень любит кататься на общественном транспорте, а получая билет, сразу проверяет, счастливый ли ему попался. \n",
    "Билет считается счастливым, если сумма первых трех цифр совпадает с суммой последних трех цифр номера билета.\n",
    "Однако Паша очень плохо считает в уме, поэтому попросил вас написать программу, которая проверит равенство сумм и выведет \n",
    "\"Счастливый\", если суммы совпадают, и \"Обычный\", если суммы различны.\"\"\"\n",
    "b = str(input())\n",
    "if len(b) == 6:\n",
    "    if int(b[0])+int(b[1])+int(b[2]) == int(b[3])+int(b[4])+int(b[5]):\n",
    "        print('Счастливый')\n",
    "    else:\n",
    "        print('Обычный')\n",
    "else:\n",
    "    print('0')"
   ]
  },
  {
   "cell_type": "markdown",
   "metadata": {},
   "source": [
    "# 2. Циклы. Строки. Списки"
   ]
  },
  {
   "cell_type": "markdown",
   "metadata": {},
   "source": [
    "2.1 Цикл while"
   ]
  },
  {
   "cell_type": "code",
   "execution_count": null,
   "metadata": {
    "collapsed": true
   },
   "outputs": [],
   "source": [
    "\"\"\"2.1 Напишите программу, которая считывает со стандартного ввода целые числа, по одному числу в строке, и после первого \n",
    "введенного нуля выводит сумму полученных на вход чисел.\"\"\"\n",
    "s = 0 \n",
    "a = 1\n",
    "while a != 0: \n",
    "    a = int(input())\n",
    "    s += a\n",
    "print (s)"
   ]
  },
  {
   "cell_type": "code",
   "execution_count": null,
   "metadata": {
    "collapsed": true
   },
   "outputs": [],
   "source": [
    "\"\"\"2.1 В Институте биоинформатики между информатиками и биологами устраивается соревнование. Победителям соревнования достанется\n",
    "большой и вкусный пирог. В команде биологов a человек, а в команде информатиков — b человек.\n",
    "Нужно заранее разрезать пирог таким образом, чтобы можно было раздать кусочки пирога любой команде, выигравшей \n",
    "соревнование, при этом каждому участнику этой команды должно достаться одинаковое число кусочков пирога. И так как\n",
    "не хочется резать пирог на слишком мелкие кусочки, нужно найти минимальное подходящее число.\"\"\"\n",
    "a = int(input())    \n",
    "b = int(input())\n",
    "d = a*b\n",
    "while a != 0 and b != 0:\n",
    "    if a > b:\n",
    "        a %= b\n",
    "    else:\n",
    "        b %= a\n",
    "print( d // (a+b) )"
   ]
  },
  {
   "cell_type": "markdown",
   "metadata": {},
   "source": [
    "2.2 Операторы break, continue"
   ]
  },
  {
   "cell_type": "code",
   "execution_count": null,
   "metadata": {
    "collapsed": true
   },
   "outputs": [],
   "source": [
    "\"\"\"2.2 Напишите программу, которая считывает целые числа с консоли по одному числу в строке.\n",
    "Для каждого введённого числа проверить:\n",
    "если число меньше 10, то пропускаем это число;\n",
    "если число больше 100, то прекращаем считывать числа;\n",
    "в остальных случаях вывести это число обратно на консоль в отдельной строке.\"\"\"\n",
    "a = 0\n",
    "while a <= 100:\n",
    "    a = int(input())\n",
    "    if a < 10:\n",
    "        continue\n",
    "    if a > 100:\n",
    "        break\n",
    "    print (a)"
   ]
  },
  {
   "cell_type": "markdown",
   "metadata": {},
   "source": [
    "2.3 Цикл for"
   ]
  },
  {
   "cell_type": "code",
   "execution_count": null,
   "metadata": {
    "collapsed": true
   },
   "outputs": [],
   "source": [
    "\"\"\"2.3 Напишите программу, на вход которой даются четыре числа a, b, c и d, каждое в своей строке. \n",
    "Программа должна вывести фрагмент таблицы умножения для всех чисел отрезка [a;b] на все числа отрезка [c;d].\"\"\"\n",
    "a = int(input())\n",
    "b = int(input())\n",
    "c = int(input())\n",
    "d = int(input())\n",
    "print(end='\\t')\n",
    "for j in range (c, d + 1):\n",
    "    print (j, end = '\\t')\n",
    "print ()    \n",
    "for i in range(a,b+1):\n",
    "    print(i, end = '\\t')\n",
    "    for j in range(c, d + 1):\n",
    "        print(i*j, end ='\\t')\n",
    "    print()\n"
   ]
  },
  {
   "cell_type": "code",
   "execution_count": null,
   "metadata": {
    "collapsed": true
   },
   "outputs": [],
   "source": [
    "\"\"\"2.3 Напишите программу, которая считывает с клавиатуры два числа a и b,\n",
    "считает и выводит на консоль среднее арифметическое всех чисел из отрезка [a;b], которые делятся на 3.\"\"\"\n",
    "a = int(input())\n",
    "b = int(input())\n",
    "s = 0\n",
    "k = 0\n",
    "for i in range (a, b+1):\n",
    "    if i % 3 == 0 or i == 0:\n",
    "        s += i\n",
    "        k += 1\n",
    "n = s / k\n",
    "print (n)"
   ]
  },
  {
   "cell_type": "markdown",
   "metadata": {},
   "source": [
    "2.4 Строки и символы"
   ]
  },
  {
   "cell_type": "code",
   "execution_count": null,
   "metadata": {
    "collapsed": true
   },
   "outputs": [],
   "source": [
    "\"\"\"2.4 Напишите программу, которая вычисляет процентное содержание\n",
    "символов G (гуанин) и C (цитозин) в введенной строке (программа не должна зависеть от регистра вводимых символов).\"\"\"\n",
    "a = str(input())\n",
    "c = a.upper().count('c'.upper())\n",
    "g = a.upper().count('g'.upper())\n",
    "s = 0\n",
    "for i in a:\n",
    "    s += 1\n",
    "print (100 * (c + g) / s)  "
   ]
  },
  {
   "cell_type": "code",
   "execution_count": null,
   "metadata": {
    "collapsed": true
   },
   "outputs": [],
   "source": [
    "\"\"\"2.4 Кодирование осуществляется следующим образом:\n",
    "s = 'aaaabbсaa' преобразуется в 'a4b2с1a2', то есть группы одинаковых символов исходной строки \n",
    "заменяются на этот символ и количество его повторений в этой позиции строки.\n",
    "Напишите программу, которая считывает строку, кодирует её предложенным алгоритмом и\n",
    "выводит закодированную последовательность на стандартный вывод. Кодирование должно учитывать регистр символов.\"\"\"\n",
    "a = str(input())\n",
    "l = len(a) - 1 \n",
    "c = 1\n",
    "p = ''\n",
    "if len(a) == 1:\n",
    "    p = p + a + str(c)\n",
    "else:\n",
    "    for i in range(0, l):\n",
    "        if a[i] == a[i+1]:\n",
    "            c += 1\n",
    "        else:\n",
    "            p = p + a[i] + str(c)\n",
    "            c = 1\n",
    "    for j in range(l,l+1):\n",
    "        if a[j-1] == a[j-2]:\n",
    "            p = p + a[j] + str(c)\n",
    "        else:\n",
    "            p = p + a[j] + str(c)\n",
    "            c = 1\n",
    "print (p)"
   ]
  },
  {
   "cell_type": "markdown",
   "metadata": {},
   "source": [
    "2.5 Списки"
   ]
  },
  {
   "cell_type": "code",
   "execution_count": null,
   "metadata": {
    "collapsed": true
   },
   "outputs": [],
   "source": [
    "\"\"\"2.5 Напишите программу, на вход которой подается одна строка с целыми числами. Программа должна вывести сумму этих чисел.\"\"\"\n",
    "a = [int(i) for i in input().split()]\n",
    "s = 0\n",
    "for i in a:\n",
    "    s += i\n",
    "print(s)"
   ]
  },
  {
   "cell_type": "code",
   "execution_count": null,
   "metadata": {
    "collapsed": true
   },
   "outputs": [],
   "source": [
    "\"\"\"2.5 Напишите программу, на вход которой подаётся список чисел одной строкой. \n",
    "Программа должна для каждого элемента этого списка вывести сумму двух его соседей. Для элементов списка, \n",
    "являющихся крайними, одним из соседей считается элемент, находящий на противоположном конце этого списка. \n",
    "Например, если на вход подаётся список \"1 3 5 6 10\", то на выход ожидается список \"13 6 9 15 7\" (без кавычек).\"\"\"\n",
    "a = [int(i) for i in input().split()]\n",
    "b = []\n",
    "l = len(a)-1\n",
    "k = 0\n",
    "i = 0\n",
    "if len(a) == 0:\n",
    "    print(str(0))\n",
    "else:\n",
    "    for e in a:\n",
    "        if len(a) > 1:\n",
    "            if i == 0:\n",
    "                k = a[i+1] + a[-1]\n",
    "                b.append(k)\n",
    "            elif i > 0 and i < l:\n",
    "                k = a[i-1] + a[i+1]\n",
    "                b.append(k)\n",
    "            elif i == l:\n",
    "                k = a[0] + a[l-1]\n",
    "                b.append(k)\n",
    "        elif len(a) == 1:\n",
    "            k = a[i]\n",
    "            b.append(k)\n",
    "        i += 1\n",
    "    j = 0\n",
    "    for el in b:\n",
    "        print(str(b[j]) + ' ', end ='')\n",
    "        j += 1"
   ]
  },
  {
   "cell_type": "code",
   "execution_count": null,
   "metadata": {
    "collapsed": true
   },
   "outputs": [],
   "source": [
    "\"\"\"2.5 Напишите программу, которая принимает на вход \n",
    "список чисел в одной строке и выводит на экран в одну строку значения, которые повторяются в нём более одного раза.\"\"\"\n",
    "a = [int(i) for i in input().split()]\n",
    "a.sort()\n",
    "l = len(a) - 1\n",
    "n = 0\n",
    "i = 0\n",
    "for k in range(0,l):\n",
    "        n = a.count(a[k])\n",
    "        if n > 1:\n",
    "            if a[k] == a[k+1]:\n",
    "                if k == l - 1:\n",
    "                    if a[k] == a[k+1]:\n",
    "                        print(str(a[k]) + ' ', end ='')\n",
    "                    else:\n",
    "                        False\n",
    "                else: \n",
    "                    False\n",
    "            elif a[k] != a[k+1]:\n",
    "                print(str(a[k]) + ' ', end ='')"
   ]
  },
  {
   "cell_type": "markdown",
   "metadata": {},
   "source": [
    "2.6 Задачи по материалам недели"
   ]
  },
  {
   "cell_type": "code",
   "execution_count": null,
   "metadata": {
    "collapsed": true
   },
   "outputs": [],
   "source": [
    "\"\"\"2.6 Напишите программу, которая считывает с консоли числа (по одному в строке) до тех пор, пока сумма введённых чисел\n",
    "не будет равна 0 и сразу после этого выводит сумму квадратов всех считанных чисел.\"\"\"\n",
    "q = 0\n",
    "s = 0\n",
    "while True:\n",
    "    a = int(input())\n",
    "    s += a\n",
    "    q += (a * a)\n",
    "    if s == 0:\n",
    "        print(q)\n",
    "        break"
   ]
  },
  {
   "cell_type": "code",
   "execution_count": null,
   "metadata": {
    "collapsed": true
   },
   "outputs": [],
   "source": [
    "\"\"\"2.6 Напишите программу, которая выводит часть последовательности 1 2 2 3 3 3 4 4 4 4 5 5 5 5 5 ... \n",
    "(число повторяется столько раз, чему равно). На вход программе передаётся неотрицательное целое число \n",
    "n — столько элементов последовательности должна отобразить программа. На выходе ожидается последовательность чисел, \n",
    "записанных через пробел в одну строку.\"\"\"\n",
    "n = int(input())\n",
    "s = ''\n",
    "j = 0\n",
    "ss = 0\n",
    "while ss < (n-j):\n",
    "    j +=1\n",
    "    k = str(j)+' '\n",
    "    g = k*j\n",
    "    s += g\n",
    "    ss += j\n",
    "print(s+(str(j+1)+' ')*(n-ss))"
   ]
  },
  {
   "cell_type": "code",
   "execution_count": null,
   "metadata": {
    "collapsed": true
   },
   "outputs": [],
   "source": [
    "\"\"\"2.6 Напишите программу, которая считывает список чисел lst из первой строки и число x из второй строки,\n",
    "которая выводит все позиции, на которых встречается число x в переданном списке lst.\"\"\"\n",
    "lst = [int(i) for i in input().split()]\n",
    "x = int(input())\n",
    "s = []\n",
    "for i in range(len(lst)):\n",
    "    if lst[i] == x:\n",
    "        s.append(str(i))\n",
    "if s == []:\n",
    "    print('Отсутствует')\n",
    "else:\n",
    "    print(' '.join(s))"
   ]
  },
  {
   "cell_type": "code",
   "execution_count": null,
   "metadata": {
    "collapsed": true
   },
   "outputs": [],
   "source": [
    "\"\"\"2.6 Напишите программу, на вход которой подаётся прямоугольная матрица в виде последовательности строк, \n",
    "заканчивающихся строкой, содержащей только строку \"end\" (без кавычек)\n",
    "Программа должна вывести матрицу того же размера, у которой каждый элемент в позиции i, j равен \n",
    "сумме элементов первой матрицы на позициях (i-1, j), (i+1, j), (i, j-1), (i, j+1).\n",
    "У крайних символов соседний элемент находится с противоположной стороны матрицы.\"\"\"\n",
    "\n",
    "n = 0\n",
    "a = [input().split()]\n",
    "while a[n] != ['end']:\n",
    "    n += 1\n",
    "    a.append(input().split())\n",
    "a = a[0:n]\n",
    "for i in range(len(a)):\n",
    "    for j in range(len(a[i])):\n",
    "        a[i][j] = int(a[i][j])\n",
    "li, lj = len(a), len(a[0])\n",
    "new = [[sum([a[i-1][j], a[(i+1)%li][j], a[i][j-1], a[i][(j+1)%lj]]) for j in range(lj)] for i in range(li)]\n",
    "\n",
    "for i in range(li):\n",
    "    for j in range(lj):\n",
    "        print(new[i][j], end=' ')\n",
    "    print()"
   ]
  },
  {
   "cell_type": "code",
   "execution_count": null,
   "metadata": {
    "collapsed": true
   },
   "outputs": [],
   "source": [
    "\"\"\"2.6 Выведите таблицу размером n×n, заполненную числами от 1 до n2 по спирали,\n",
    "выходящей из левого верхнего угла и закрученной по часовой стрелке, как показано в примере (здесь n=5):\"\"\"\n",
    "n = int(input())\n",
    "dx, dy = 1,0           \n",
    "x, y = 0,0              \n",
    "array = [[None] * n for j in range(n)]\n",
    "for i in range(1, n ** 2+1):\n",
    "    array[x][y] = i\n",
    "    nx, ny = x+dx, y+dy\n",
    "    if 0 <= nx < n and 0 <= ny < n and array[nx][ny] == None:\n",
    "        x, y = nx, ny\n",
    "    else:\n",
    "        dx, dy = -dy, dx\n",
    "        x, y = x+dx, y+dy\n",
    "n = range(len(array))\n",
    "for y in n:\n",
    "    for x in n:\n",
    "        print (array[x][y], end=' ')\n",
    "    print()"
   ]
  },
  {
   "cell_type": "markdown",
   "metadata": {},
   "source": [
    "# 3. Функции. Словари. Интерпретатор. Файлы. Модули"
   ]
  },
  {
   "cell_type": "markdown",
   "metadata": {},
   "source": [
    "3.1 Функции"
   ]
  },
  {
   "cell_type": "code",
   "execution_count": null,
   "metadata": {
    "collapsed": true
   },
   "outputs": [],
   "source": [
    "\"\"\"3.1 Напишите функцию f(x), которая возвращает значение следующей функции, определённой на всей числовой прямой:\n",
    "\n",
    "f(x)=⎧⎩⎨⎪⎪1−(x+2)2,−x2,(x−2)2+1,при x≤−2при −2<x≤2при 2<x\"\"\"\n",
    "\n",
    "def f(x):\n",
    "    # put your python code here\n",
    "    if x <= -2:\n",
    "        return (1-(x+2)**2)\n",
    "    elif x > 2:\n",
    "        return ((x-2)**2 + 1) \n",
    "    else:\n",
    "        return (-x/2)"
   ]
  },
  {
   "cell_type": "code",
   "execution_count": null,
   "metadata": {
    "collapsed": true
   },
   "outputs": [],
   "source": [
    "\"\"\"3.1 Напишите функцию modify_list(l), \n",
    "которая принимает на вход список целых чисел, \n",
    "удаляет из него все нечётные значения, а чётные нацело делит на два. \"\"\"\n",
    "def modify_list(l):\n",
    "    # put your python code here\n",
    "    i = 0\n",
    "    while i < len(l):\n",
    "        if l[i] % 2:\n",
    "            del l[i]\n",
    "        else:\n",
    "            l[i] = l[i]//2\n",
    "            i += 1"
   ]
  },
  {
   "cell_type": "markdown",
   "metadata": {},
   "source": [
    "3.2 Словари"
   ]
  },
  {
   "cell_type": "code",
   "execution_count": null,
   "metadata": {
    "collapsed": true
   },
   "outputs": [],
   "source": [
    "\"\"\"3.2 Напишите функцию update_dictionary(d, key, value), которая принимает на вход словарь d и два числа: key и value.\n",
    "Если ключ key есть в словаре d, то добавьте значение value в список, который хранится по этому ключу. \n",
    "Если ключа key нет в словаре, то нужно добавить значение в список по ключу 2⋅key. Если и ключа 2⋅key нет, то \n",
    "нужно добавить ключ 2⋅key в словарь и сопоставить ему список из переданного элемента [value].\"\"\"\n",
    "def update_dictionary(d, key, value):\n",
    "    # put your python code here\n",
    "    if key in d.keys():\n",
    "        d[key].append(value)\n",
    "    else:\n",
    "        if 2*key in d.keys():\n",
    "            d[2*key].append(value)\n",
    "        else:\n",
    "            d[2*key] = [value]\n",
    "    return"
   ]
  },
  {
   "cell_type": "code",
   "execution_count": null,
   "metadata": {
    "collapsed": true
   },
   "outputs": [],
   "source": [
    "\"\"\"3.2 Когда Антон прочитал «Войну и мир», ему стало интересно, сколько слов и в каком количестве используется в этой книге.\n",
    "Помогите Антону написать упрощённую версию такой программы, которая сможет подсчитать слова, разделённые пробелом и \n",
    "вывести получившуюся статистику.\n",
    "Программа должна считывать одну строку со стандартного ввода и выводить для каждого уникального слова в\n",
    "этой строке число его повторений (без учёта регистра) в формате \"слово количество\" (см. пример вывода). \n",
    "Порядок вывода слов может быть произвольным, каждое уникальное слово﻿ должно выводиться только один раз.\"\"\"\n",
    "from collections import Counter\n",
    "a = input().split()\n",
    "for i in range(len(a)):\n",
    "    a[i] = a[i].lower()\n",
    "c = Counter(a)\n",
    "for n, i in dict(c).items():\n",
    "    print(n, i)"
   ]
  },
  {
   "cell_type": "code",
   "execution_count": null,
   "metadata": {
    "collapsed": true
   },
   "outputs": [],
   "source": [
    "\"\"\"3.2 Напишите программу, которой на вход в первой строке подаётся число n — количество значений x, для которых требуется\n",
    "узнать значение функции f(x), после чего сами эти n значений, каждое на отдельной строке. \n",
    "Программа должна после каждого введённого значения аргумента вывести соответствующие значения функции f на отдельной строке.\"\"\"\n",
    "d = {}\n",
    "k = []\n",
    "n = int(input())\n",
    "for i in range(n):\n",
    "    x = int(input())\n",
    "    k.append(x)\n",
    "for j in range(0, len(k)):\n",
    "    key = k[j]\n",
    "    if  key in d:\n",
    "        print(d[key])\n",
    "    elif key not in d:\n",
    "        p = k[j]\n",
    "        d[key] = f(p)\n",
    "        print(d[key])"
   ]
  },
  {
   "cell_type": "markdown",
   "metadata": {},
   "source": [
    "3.4 Файловый ввод/вывод"
   ]
  },
  {
   "cell_type": "code",
   "execution_count": null,
   "metadata": {
    "collapsed": true
   },
   "outputs": [],
   "source": [
    "\"\"\"3.4 Напишите программу, которая считывает из файла строку, \n",
    "соответствующую тексту, сжатому с помощью кодирования повторов, \n",
    "и производит обратную операцию, получая исходный текст.\"\"\"\n",
    "file = open('dataset_3363_2 .txt', 'r')\n",
    "string = file.readline()\n",
    "string = string.strip()\n",
    "file.close()\n",
    "letters = []\n",
    "nums = []\n",
    "for i in string:\n",
    "    if not i.isdigit():\n",
    "        letters.append(i)\n",
    "        string = string.replace(i, '#')\n",
    "nums = string.split(sep = '#')\n",
    "del nums[0]\n",
    "nums = list(map(int, nums))\n",
    "result = ''\n",
    "for i in range(len(letters)):\n",
    "    result += letters[i]*nums[i]\n",
    "file = open('dataset_3363_2 .txt', 'w')\n",
    "file.write(result + '\\n')\n",
    "file.close()"
   ]
  },
  {
   "cell_type": "code",
   "execution_count": null,
   "metadata": {
    "collapsed": true
   },
   "outputs": [],
   "source": [
    "\"\"\"3.4 Напишите программу, которая считывает текст из файла (в файле может быть больше одной строки) \n",
    "и выводит самое частое слово в этом тексте и через пробел то, сколько раз оно встретилось. \n",
    "Если таких слов несколько, вывести лексикографически первое (можно использовать оператор < для строк).\"\"\"\n",
    "file = open('dataset_3363_3.txt', 'r')\n",
    "string = file.read()\n",
    "file.close()\n",
    "string = string.replace('\\n', ' ')\n",
    "string = string.split(sep = ' ')\n",
    "from collections import Counter\n",
    "count = Counter(string)\n",
    "count =  dict((key,value) for key, value in count.items() if value == max(count.values()))\n",
    "count = [min(count),count[min(count)]]\n",
    "count = count[0] + ' ' + str(count[1])\n",
    "file = open('dataset_3363_3.txt', 'w')\n",
    "file.write(count + '\\n')\n",
    "file.close()"
   ]
  },
  {
   "cell_type": "code",
   "execution_count": null,
   "metadata": {
    "collapsed": true
   },
   "outputs": [],
   "source": [
    "\"\"\"3.4 Имеется файл с данными по успеваемости абитуриентов. Он представляет из себя набор строк, \n",
    "где в каждой строке записана следующая информация:\n",
    "Фамилия;Оценка_по_математике;Оценка_по_физике;Оценка_по_русскому_языку\n",
    "Поля внутри строки разделены точкой с запятой, оценки — целые числа.\n",
    "Напишите программу, которая считывает файл с подобной структурой и для \n",
    "каждого абитуриента выводит его среднюю оценку по этим трём предметам на отдельной строке, соответствующей этому абитуриенту.\"\"\"\n",
    "file = open('dataset_3363_4.txt', 'r')\n",
    "a = file.read()\n",
    "file.close()\n",
    "a = a.split(sep = '\\n')\n",
    "for i in range(len(a)):\n",
    "    a[i] = a[i].split(sep = ';')\n",
    "del a[-1]\n",
    "a1 = []\n",
    "a2 = []\n",
    "a3 = []\n",
    "a4 = []\n",
    "for i in range(len(a)):\n",
    "    a1.append(sum(map(int, a[i][1:]))/len(a[i][1:]))\n",
    "    a2.append(float(a[i][1]))\n",
    "    a3.append(float(a[i][2]))\n",
    "    a4.append(float(a[i][3]))\n",
    "a2 = sum(a2)/len(a2)\n",
    "a3 = sum(a3)/len(a3)\n",
    "a4 = sum(a4)/len(a4)\n",
    "a = ''\n",
    "for i in range(len(a1)):\n",
    "    a += str(a1[i]) + '\\n'\n",
    "a += str(a2) + ' ' + str(a3) + ' ' + str(a4) + '\\n'\n",
    "file = open('dataset_3363_4.txt', 'w')\n",
    "file.write(a)\n",
    "file.close()"
   ]
  },
  {
   "cell_type": "markdown",
   "metadata": {},
   "source": [
    "3.5 Модули, подключение модулей"
   ]
  },
  {
   "cell_type": "code",
   "execution_count": null,
   "metadata": {
    "collapsed": true
   },
   "outputs": [],
   "source": [
    "\"\"\"3.5 Напишите программу, которая подключает модуль math и, используя значение числа π\n",
    "из этого модуля, находит для переданного \n",
    "ей на стандартный ввод радиуса круга периметр этого круга и выводит его на стандартный вывод.\"\"\"\n",
    "from math import pi\n",
    "R = float(input())\n",
    "print(pi*2*R)"
   ]
  },
  {
   "cell_type": "code",
   "execution_count": null,
   "metadata": {
    "collapsed": true
   },
   "outputs": [],
   "source": [
    "\"\"\"3.5 Напишите программу, которая запускается из консоли и печатает значения всех переданных\n",
    "аргументов на экран (имя скрипта выводить не нужно). Не изменяйте порядок аргументов при выводе.\"\"\"\n",
    "import sys\n",
    "print(' '.join(sys.argv[1:]))"
   ]
  },
  {
   "cell_type": "markdown",
   "metadata": {},
   "source": [
    "3.6 Установка дополнительных модулей"
   ]
  },
  {
   "cell_type": "code",
   "execution_count": null,
   "metadata": {
    "collapsed": true
   },
   "outputs": [],
   "source": [
    "\"\"\"3.6 Скачайте файл. В нём указан адрес другого файла, \n",
    "который нужно скачать с использованием модуля requests и посчитать число строк в нём.\n",
    "Используйте функцию get для получения файла (имеет смысл вызвать метод strip к передаваемому параметру,\n",
    "чтобы убрать пробельные символы по краям).\"\"\"\n",
    "import requests\n",
    "file = open('dataset_3378_2.txt', 'r')\n",
    "a = file.read()\n",
    "file.close()\n",
    "a = a.strip()\n",
    "r = requests.get(a)\n",
    "r = r.text\n",
    "r = r.split(sep = '\\n')\n",
    "print(len(r)-1)"
   ]
  },
  {
   "cell_type": "code",
   "execution_count": null,
   "metadata": {
    "collapsed": true
   },
   "outputs": [],
   "source": [
    "\"\"\"Имеется набор файлов, каждый из которых, кроме последнего, содержит имя следующего файла.\n",
    "Первое слово в тексте последнего файла: \"We\".\n",
    "Скачайте предложенный файл. В нём содержится ссылка на первый файл из этого набора.\n",
    "Все файлы располагаются в каталоге по адресу:\n",
    "https://stepic.org/media/attachments/course67/3.6.3/\"\"\"\n",
    "import requests\n",
    "file = open('dataset_3378_3.txt', 'r')\n",
    "a = file.read()\n",
    "file.close()\n",
    "r = requests.get(a.strip()).text\n",
    "base = 'https://stepic.org/media/attachments/course67/3.6.3/'\n",
    "while r[:2] != 'We':\n",
    "    r =  requests.get(base + r).text\n",
    "    print(r)"
   ]
  },
  {
   "cell_type": "markdown",
   "metadata": {},
   "source": [
    "3.7 Задачи по материалам недели"
   ]
  },
  {
   "cell_type": "code",
   "execution_count": null,
   "metadata": {
    "collapsed": true
   },
   "outputs": [],
   "source": [
    "\"\"\"3.7 Напишите программу, которая принимает на стандартный вход список игр футбольных команд с \n",
    "результатом матча и выводит на стандартный вывод сводную таблицу результатов всех матчей.\n",
    "За победу команде начисляется 3 очка, за поражение — 0, за ничью — 1.\"\"\"\n",
    "import itertools\n",
    "n = int(input())\n",
    "games = [input().split(';') for x in range(n)]\n",
    "vs = [(x[0], x[2]) for x in games]\n",
    "commands = set(itertools.chain.from_iterable(vs))\n",
    "res = {command: [0, 0, 0, 0, 0] for command in commands}\n",
    "for kom1, gol1, kom2, gol2 in games:\n",
    "    res[kom1][0] += 1\n",
    "    res[kom2][0] += 1\n",
    "    if int(gol1) > int(gol2):\n",
    "        res[kom1][1] += 1\n",
    "        res[kom1][4] += 3\n",
    "        res[kom2][3] += 1\n",
    "    elif int(gol1) < int(gol2):\n",
    "        res[kom2][1] += 1\n",
    "        res[kom2][4] += 3\n",
    "        res[kom1][3] += 1\n",
    "    elif int(gol1) == int(gol2):\n",
    "        res[kom1][2] += 1\n",
    "        res[kom1][4] += 1\n",
    "        res[kom2][2] += 1\n",
    "        res[kom2][4] += 1\n",
    "for command in commands:\n",
    "    print('{}:{}'.format(command, ' '.join(map(str, res[command]))))"
   ]
  },
  {
   "cell_type": "code",
   "execution_count": null,
   "metadata": {
    "collapsed": true
   },
   "outputs": [],
   "source": [
    "\"\"\"3.7 Напишите программу, которая умеет шифровать и расшифровывать шифр подстановки. Программа принимает на вход две строки\n",
    "одинаковой длины, на первой строке записаны символы исходного алфавита, на второй строке — символы конечного алфавита, \n",
    "после чего идёт строка, которую нужно зашифровать переданным ключом, и ещё одна строка, которую нужно расшифровать.\"\"\"\n",
    "transl = dict(zip(list(input()), list(input())))\n",
    "words = [list(input()),list(input())]\n",
    "for i in range(len(words)):\n",
    "    for j in range(len(words[i])):\n",
    "        if i == 0:\n",
    "            words[i][j] = transl[words[i][j]]\n",
    "        elif i == 1:\n",
    "            words[i][j] = [key  for (key, value) in transl.items() if value == words[i][j]][0]\n",
    "for i in range(len(words)):\n",
    "    print(''.join(words[i]))"
   ]
  },
  {
   "cell_type": "code",
   "execution_count": null,
   "metadata": {
    "collapsed": true
   },
   "outputs": [],
   "source": [
    "\"\"\"3.7 Напишите программу, которая выводит слова из текста, которые не встречаются в словаре. Регистр слов не учитывается. \n",
    "Порядок вывода слов произвольный. Слова, не встречающиеся в словаре, не должны повторяться в выводе программы.\"\"\"\n",
    "\n",
    "d = int(input())\n",
    "words = [input().lower() for i in range(d)]\n",
    "le = int(input())\n",
    "strings = [input().lower().split(' ') for i in range(le)]\n",
    "un = []\n",
    "for i in range(len(strings)):\n",
    "    for j in strings[i]:\n",
    "        if j not in words:\n",
    "            un.append(j)\n",
    "un = set(un)\n",
    "for i in un:\n",
    "    print(i)"
   ]
  },
  {
   "cell_type": "code",
   "execution_count": 16,
   "metadata": {},
   "outputs": [
    {
     "name": "stdout",
     "output_type": "stream",
     "text": [
      "4\n",
      "север 10\n",
      "запад 20\n",
      "юг 30\n",
      "восток 40\n",
      "[-20, 20]\n"
     ]
    }
   ],
   "source": [
    "\"\"\"3.7 Программе подаётся на вход число команд n, которые нужно выполнить черепашке, после чего n строк с самими командами. \n",
    "Вывести нужно два числа в одну строку: первую и вторую координату конечной точки черепашки. Все координаты целочисленные.\"\"\"\n",
    "\n",
    "n = int(input())\n",
    "steps = [input().lower() for i in range(n)]\n",
    "cor = [0, 0]\n",
    "nam = ['север', 'юг', 'восток', 'запад']\n",
    "for i in range(len(steps)):\n",
    "    for j in range(len(nam)):\n",
    "        if nam[j] in steps[i]:\n",
    "            if j == 0:\n",
    "                cor[1] += int(''.join(list(filter(str.isdigit, steps[i]))))\n",
    "            elif j == 1:\n",
    "                cor[1] -= int(''.join(list(filter(str.isdigit, steps[i]))))\n",
    "            elif j == 2:\n",
    "                cor[0] += int(''.join(list(filter(str.isdigit, steps[i]))))\n",
    "            elif j == 3:\n",
    "                cor[0] -= int(''.join(list(filter(str.isdigit, steps[i]))))\n",
    "print(' '.join(map(str, cor)))\n"
   ]
  },
  {
   "cell_type": "code",
   "execution_count": 46,
   "metadata": {},
   "outputs": [],
   "source": [
    "\"\"\"3.7 Дан файл с таблицей в формате TSV с информацией о росте школьников разных классов.\n",
    "Напишите программу, которая прочитает этот файл и подсчитает для каждого класса средний рост учащегося.\n",
    "Файл состоит из набора строк, каждая из которых представляет собой три поля:\n",
    "Класс Фамилия Рост\"\"\"\n",
    "\n",
    "from statistics import mean\n",
    "with open('dataset_3380_5 (1).txt') as file:\n",
    "    data = file.read()\n",
    "data = data.split('\\n')\n",
    "for i in range(len(data)):\n",
    "    data[i] = data[i].split('\\t')\n",
    "del data[-1]\n",
    "clases = [str(i+1) for i in range(11)]\n",
    "ev = [[] for i in range(11)]\n",
    "res = ''\n",
    "for i in range(len(ev)):\n",
    "    for j in range(len(data)):\n",
    "        if data[j][0] == clases[i]:\n",
    "            ev[i].append(int(data[j][2]))\n",
    "    if ev[i] != []:\n",
    "        ev[i] = mean(ev[i])\n",
    "        res += (clases[i] + ' ' + str(ev[i]) + '\\n')\n",
    "    elif ev[i] == []:\n",
    "        res += (clases[i] + ' ' + '-' + '\\n')\n",
    "file = open('dataset_3380_5.txt', 'w')\n",
    "file.write(res)\n",
    "file.close() "
   ]
  }
 ],
 "metadata": {
  "kernelspec": {
   "display_name": "Python 3",
   "language": "python",
   "name": "python3"
  },
  "language_info": {
   "codemirror_mode": {
    "name": "ipython",
    "version": 3
   },
   "file_extension": ".py",
   "mimetype": "text/x-python",
   "name": "python",
   "nbconvert_exporter": "python",
   "pygments_lexer": "ipython3",
   "version": "3.6.3"
  }
 },
 "nbformat": 4,
 "nbformat_minor": 2
}
